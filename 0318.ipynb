{
  "nbformat": 4,
  "nbformat_minor": 0,
  "metadata": {
    "colab": {
      "provenance": [],
      "authorship_tag": "ABX9TyMRRx1/fTfYlWJ/jy+VBo2i",
      "include_colab_link": true
    },
    "kernelspec": {
      "name": "python3",
      "display_name": "Python 3"
    },
    "language_info": {
      "name": "python"
    }
  },
  "cells": [
    {
      "cell_type": "markdown",
      "metadata": {
        "id": "view-in-github",
        "colab_type": "text"
      },
      "source": [
        "<a href=\"https://colab.research.google.com/github/gogyeoly/class/blob/main/0318.ipynb\" target=\"_parent\"><img src=\"https://colab.research.google.com/assets/colab-badge.svg\" alt=\"Open In Colab\"/></a>"
      ]
    },
    {
      "cell_type": "code",
      "execution_count": 30,
      "metadata": {
        "colab": {
          "base_uri": "https://localhost:8080/"
        },
        "id": "kdSeK5uKgW-t",
        "outputId": "e469867c-a108-4353-c55f-e1d7bd5167d8"
      },
      "outputs": [
        {
          "output_type": "stream",
          "name": "stdout",
          "text": [
            "[{\"result\":1,\"cur_unit\":\"AED\",\"ttb\":\"347.55\",\"tts\":\"354.58\",\"deal_bas_r\":\"351.07\",\"bkpr\":\"351\",\"yy_efee_r\":\"0\",\"ten_dd_efee_r\":\"0\",\"kftc_bkpr\":\"351\",\"kftc_deal_bas_r\":\"351.07\",\"cur_nm\":\"아랍에미리트 디르함\"},{\"result\":1,\"cur_unit\":\"AUD\",\"ttb\":\"869.55\",\"tts\":\"887.12\",\"deal_bas_r\":\"878.34\",\"bkpr\":\"878\",\"yy_efee_r\":\"0\",\"ten_dd_efee_r\":\"0\",\"kftc_bkpr\":\"878\",\"kftc_deal_bas_r\":\"878.34\",\"cur_nm\":\"호주 달러\"},{\"result\":1,\"cur_unit\":\"BHD\",\"ttb\":\"3,386.04\",\"tts\":\"3,454.45\",\"deal_bas_r\":\"3,420.25\",\"bkpr\":\"3,420\",\"yy_efee_r\":\"0\",\"ten_dd_efee_r\":\"0\",\"kftc_bkpr\":\"3,420\",\"kftc_deal_bas_r\":\"3,420.25\",\"cur_nm\":\"바레인 디나르\"},{\"result\":1,\"cur_unit\":\"BND\",\"ttb\":\"966.94\",\"tts\":\"986.47\",\"deal_bas_r\":\"976.71\",\"bkpr\":\"976\",\"yy_efee_r\":\"0\",\"ten_dd_efee_r\":\"0\",\"kftc_bkpr\":\"976\",\"kftc_deal_bas_r\":\"976.71\",\"cur_nm\":\"브루나이 달러\"},{\"result\":1,\"cur_unit\":\"CAD\",\"ttb\":\"964.02\",\"tts\":\"983.49\",\"deal_bas_r\":\"973.76\",\"bkpr\":\"973\",\"yy_efee_r\":\"0\",\"ten_dd_efee_r\":\"0\",\"kftc_bkpr\":\"973\",\"kftc_deal_bas_r\":\"973.76\",\"cur_nm\":\"캐나다 달러\"},{\"result\":1,\"cur_unit\":\"CHF\",\"ttb\":\"1,518.2\",\"tts\":\"1,548.87\",\"deal_bas_r\":\"1,533.54\",\"bkpr\":\"1,533\",\"yy_efee_r\":\"0\",\"ten_dd_efee_r\":\"0\",\"kftc_bkpr\":\"1,533\",\"kftc_deal_bas_r\":\"1,533.54\",\"cur_nm\":\"스위스 프랑\"},{\"result\":1,\"cur_unit\":\"CNH\",\"ttb\":\"179.03\",\"tts\":\"182.64\",\"deal_bas_r\":\"180.84\",\"bkpr\":\"180\",\"yy_efee_r\":\"0\",\"ten_dd_efee_r\":\"0\",\"kftc_bkpr\":\"180\",\"kftc_deal_bas_r\":\"180.84\",\"cur_nm\":\"위안화\"},{\"result\":1,\"cur_unit\":\"DKK\",\"ttb\":\"189.03\",\"tts\":\"192.84\",\"deal_bas_r\":\"190.94\",\"bkpr\":\"190\",\"yy_efee_r\":\"0\",\"ten_dd_efee_r\":\"0\",\"kftc_bkpr\":\"190\",\"kftc_deal_bas_r\":\"190.94\",\"cur_nm\":\"덴마아크 크로네\"},{\"result\":1,\"cur_unit\":\"EUR\",\"ttb\":\"1,409.39\",\"tts\":\"1,437.86\",\"deal_bas_r\":\"1,423.63\",\"bkpr\":\"1,423\",\"yy_efee_r\":\"0\",\"ten_dd_efee_r\":\"0\",\"kftc_bkpr\":\"1,423\",\"kftc_deal_bas_r\":\"1,423.63\",\"cur_nm\":\"유로\"},{\"result\":1,\"cur_unit\":\"GBP\",\"ttb\":\"1,625.5\",\"tts\":\"1,658.33\",\"deal_bas_r\":\"1,641.92\",\"bkpr\":\"1,641\",\"yy_efee_r\":\"0\",\"ten_dd_efee_r\":\"0\",\"kftc_bkpr\":\"1,641\",\"kftc_deal_bas_r\":\"1,641.92\",\"cur_nm\":\"영국 파운드\"},{\"result\":1,\"cur_unit\":\"HKD\",\"ttb\":\"163.46\",\"tts\":\"166.77\",\"deal_bas_r\":\"165.12\",\"bkpr\":\"165\",\"yy_efee_r\":\"0\",\"ten_dd_efee_r\":\"0\",\"kftc_bkpr\":\"165\",\"kftc_deal_bas_r\":\"165.12\",\"cur_nm\":\"홍콩 달러\"},{\"result\":1,\"cur_unit\":\"IDR(100)\",\"ttb\":\"8.28\",\"tts\":\"8.45\",\"deal_bas_r\":\"8.37\",\"bkpr\":\"8\",\"yy_efee_r\":\"0\",\"ten_dd_efee_r\":\"0\",\"kftc_bkpr\":\"8\",\"kftc_deal_bas_r\":\"8.37\",\"cur_nm\":\"인도네시아 루피아\"},{\"result\":1,\"cur_unit\":\"JPY(100)\",\"ttb\":\"906.44\",\"tts\":\"924.75\",\"deal_bas_r\":\"915.6\",\"bkpr\":\"915\",\"yy_efee_r\":\"0\",\"ten_dd_efee_r\":\"0\",\"kftc_bkpr\":\"915\",\"kftc_deal_bas_r\":\"915.6\",\"cur_nm\":\"일본 옌\"},{\"result\":1,\"cur_unit\":\"KRW\",\"ttb\":\"0\",\"tts\":\"0\",\"deal_bas_r\":\"1\",\"bkpr\":\"1\",\"yy_efee_r\":\"0\",\"ten_dd_efee_r\":\"0\",\"kftc_bkpr\":\"1\",\"kftc_deal_bas_r\":\"1\",\"cur_nm\":\"한국 원\"},{\"result\":1,\"cur_unit\":\"KWD\",\"ttb\":\"4,154.61\",\"tts\":\"4,238.54\",\"deal_bas_r\":\"4,196.58\",\"bkpr\":\"4,196\",\"yy_efee_r\":\"0\",\"ten_dd_efee_r\":\"0\",\"kftc_bkpr\":\"4,196\",\"kftc_deal_bas_r\":\"4,196.58\",\"cur_nm\":\"쿠웨이트 디나르\"},{\"result\":1,\"cur_unit\":\"MYR\",\"ttb\":\"277.8\",\"tts\":\"283.41\",\"deal_bas_r\":\"280.61\",\"bkpr\":\"280\",\"yy_efee_r\":\"0\",\"ten_dd_efee_r\":\"0\",\"kftc_bkpr\":\"280\",\"kftc_deal_bas_r\":\"280.61\",\"cur_nm\":\"말레이지아 링기트\"},{\"result\":1,\"cur_unit\":\"NOK\",\"ttb\":\"125.45\",\"tts\":\"127.98\",\"deal_bas_r\":\"126.72\",\"bkpr\":\"126\",\"yy_efee_r\":\"0\",\"ten_dd_efee_r\":\"0\",\"kftc_bkpr\":\"126\",\"kftc_deal_bas_r\":\"126.72\",\"cur_nm\":\"노르웨이 크로네\"},{\"result\":1,\"cur_unit\":\"NZD\",\"ttb\":\"807\",\"tts\":\"823.31\",\"deal_bas_r\":\"815.16\",\"bkpr\":\"815\",\"yy_efee_r\":\"0\",\"ten_dd_efee_r\":\"0\",\"kftc_bkpr\":\"815\",\"kftc_deal_bas_r\":\"815.16\",\"cur_nm\":\"뉴질랜드 달러\"},{\"result\":1,\"cur_unit\":\"SAR\",\"ttb\":\"340.35\",\"tts\":\"347.22\",\"deal_bas_r\":\"343.79\",\"bkpr\":\"343\",\"yy_efee_r\":\"0\",\"ten_dd_efee_r\":\"0\",\"kftc_bkpr\":\"343\",\"kftc_deal_bas_r\":\"343.79\",\"cur_nm\":\"사우디 리얄\"},{\"result\":1,\"cur_unit\":\"SEK\",\"ttb\":\"126.74\",\"tts\":\"129.31\",\"deal_bas_r\":\"128.03\",\"bkpr\":\"128\",\"yy_efee_r\":\"0\",\"ten_dd_efee_r\":\"0\",\"kftc_bkpr\":\"128\",\"kftc_deal_bas_r\":\"128.03\",\"cur_nm\":\"스웨덴 크로나\"},{\"result\":1,\"cur_unit\":\"SGD\",\"ttb\":\"966.94\",\"tts\":\"986.47\",\"deal_bas_r\":\"976.71\",\"bkpr\":\"976\",\"yy_efee_r\":\"0\",\"ten_dd_efee_r\":\"0\",\"kftc_bkpr\":\"976\",\"kftc_deal_bas_r\":\"976.71\",\"cur_nm\":\"싱가포르 달러\"},{\"result\":1,\"cur_unit\":\"THB\",\"ttb\":\"37.17\",\"tts\":\"37.92\",\"deal_bas_r\":\"37.55\",\"bkpr\":\"37\",\"yy_efee_r\":\"0\",\"ten_dd_efee_r\":\"0\",\"kftc_bkpr\":\"37\",\"kftc_deal_bas_r\":\"37.55\",\"cur_nm\":\"태국 바트\"},{\"result\":1,\"cur_unit\":\"USD\",\"ttb\":\"1,276.5\",\"tts\":\"1,302.29\",\"deal_bas_r\":\"1,289.4\",\"bkpr\":\"1,289\",\"yy_efee_r\":\"0\",\"ten_dd_efee_r\":\"0\",\"kftc_bkpr\":\"1,289\",\"kftc_deal_bas_r\":\"1,289.4\",\"cur_nm\":\"미국 달러\"}]\n"
          ]
        }
      ],
      "source": [
        "import requests\n",
        "url='https://www.koreaexim.go.kr/site/program/financial/exchangeJSON?authkey=bJayji2nxDmBfzeU2Q9GkcskAdETu1Mu&searchdate=20240102&data=AP01'\n",
        "r = requests.get(url)\n",
        "print(r.text)"
      ]
    },
    {
      "cell_type": "code",
      "source": [
        "from bs4 import BeautifulSoup\n",
        "\n",
        "soup = BeautifulSoup(r.text, features=\"xml\")"
      ],
      "metadata": {
        "id": "ssvAxBEGgY6T"
      },
      "execution_count": 31,
      "outputs": []
    },
    {
      "cell_type": "code",
      "source": [
        "soup.find_all('cur_nm')"
      ],
      "metadata": {
        "colab": {
          "base_uri": "https://localhost:8080/"
        },
        "id": "AzJifBpFganR",
        "outputId": "cbbdb0c7-bce4-4c73-de25-4ca247548952"
      },
      "execution_count": 32,
      "outputs": [
        {
          "output_type": "execute_result",
          "data": {
            "text/plain": [
              "[]"
            ]
          },
          "metadata": {},
          "execution_count": 32
        }
      ]
    },
    {
      "cell_type": "code",
      "source": [
        "print('학번=',2386002,'이름=','고은결')"
      ],
      "metadata": {
        "colab": {
          "base_uri": "https://localhost:8080/"
        },
        "id": "2rNqFjeTgcNr",
        "outputId": "7d5ea4c8-3974-43ff-c28e-5294dc0937fb"
      },
      "execution_count": 33,
      "outputs": [
        {
          "output_type": "stream",
          "name": "stdout",
          "text": [
            "학번= 2386002 이름= 고은결\n"
          ]
        }
      ]
    }
  ]
}