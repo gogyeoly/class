{
  "nbformat": 4,
  "nbformat_minor": 0,
  "metadata": {
    "colab": {
      "provenance": [],
      "authorship_tag": "ABX9TyNH6VN6uTSzvwrgzaCCxpCW",
      "include_colab_link": true
    },
    "kernelspec": {
      "name": "python3",
      "display_name": "Python 3"
    },
    "language_info": {
      "name": "python"
    }
  },
  "cells": [
    {
      "cell_type": "markdown",
      "metadata": {
        "id": "view-in-github",
        "colab_type": "text"
      },
      "source": [
        "<a href=\"https://colab.research.google.com/github/gogyeoly/class/blob/main/0325.ipynb\" target=\"_parent\"><img src=\"https://colab.research.google.com/assets/colab-badge.svg\" alt=\"Open In Colab\"/></a>"
      ]
    },
    {
      "cell_type": "code",
      "execution_count": 7,
      "metadata": {
        "id": "7Y73XM8GHkmN"
      },
      "outputs": [],
      "source": [
        "a={\"rentBikeStatus\":{\"list_total_count\":5,\"RESULT\":{\"CODE\":\"INFO-000\",\"MESSAGE\":\"정상 처리되었습니다.\"},\"row\":[{\"rackTotCnt\":\"15\",\"stationName\":\"102. 망원역 1번출구 앞\",\"parkingBikeTotCnt\":\"28\",\"shared\":\"187\",\"stationLatitude\":\"37.55564880\",\"stationLongitude\":\"126.91062927\",\"stationId\":\"ST-4\"},{\"rackTotCnt\":\"14\",\"stationName\":\"103. 망원역 2번출구 앞\",\"parkingBikeTotCnt\":\"27\",\"shared\":\"193\",\"stationLatitude\":\"37.55495071\",\"stationLongitude\":\"126.91083527\",\"stationId\":\"ST-5\"},{\"rackTotCnt\":\"13\",\"stationName\":\"104. 합정역 1번출구 앞\",\"parkingBikeTotCnt\":\"15\",\"shared\":\"115\",\"stationLatitude\":\"37.55073929\",\"stationLongitude\":\"126.91508484\",\"stationId\":\"ST-6\"},{\"rackTotCnt\":\"5\",\"stationName\":\"105. 합정역 5번출구 앞\",\"parkingBikeTotCnt\":\"17\",\"shared\":\"340\",\"stationLatitude\":\"37.55000687\",\"stationLongitude\":\"126.91482544\",\"stationId\":\"ST-7\"},{\"rackTotCnt\":\"12\",\"stationName\":\"106. 합정역 7번출구 앞\",\"parkingBikeTotCnt\":\"4\",\"shared\":\"33\",\"stationLatitude\":\"37.54864502\",\"stationLongitude\":\"126.91282654\",\"stationId\":\"ST-8\"}]}}"
      ]
    },
    {
      "cell_type": "code",
      "source": [
        "for x in a['rentBikeStatus']['row']:\n",
        "  print('위치','=',x['stationName'],':',x['shared'])\n",
        "\n",
        "\n"
      ],
      "metadata": {
        "colab": {
          "base_uri": "https://localhost:8080/"
        },
        "id": "LVj7WmECK7Mj",
        "outputId": "7d245e1e-5fdc-4c3d-8b9f-2c98943654bd"
      },
      "execution_count": 8,
      "outputs": [
        {
          "output_type": "stream",
          "name": "stdout",
          "text": [
            "위치 = 102. 망원역 1번출구 앞 : 187\n",
            "위치 = 103. 망원역 2번출구 앞 : 193\n",
            "위치 = 104. 합정역 1번출구 앞 : 115\n",
            "위치 = 105. 합정역 5번출구 앞 : 340\n",
            "위치 = 106. 합정역 7번출구 앞 : 33\n"
          ]
        }
      ]
    },
    {
      "cell_type": "code",
      "source": [],
      "metadata": {
        "id": "fS6XOPkIK8GR"
      },
      "execution_count": 8,
      "outputs": []
    },
    {
      "cell_type": "code",
      "source": [],
      "metadata": {
        "id": "ccs6cCyFLFhq"
      },
      "execution_count": 8,
      "outputs": []
    }
  ]
}