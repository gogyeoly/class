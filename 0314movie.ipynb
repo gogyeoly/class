{
  "nbformat": 4,
  "nbformat_minor": 0,
  "metadata": {
    "colab": {
      "provenance": [],
      "authorship_tag": "ABX9TyOsM591o2jAKyWoD4KAIYhy",
      "include_colab_link": true
    },
    "kernelspec": {
      "name": "python3",
      "display_name": "Python 3"
    },
    "language_info": {
      "name": "python"
    }
  },
  "cells": [
    {
      "cell_type": "markdown",
      "metadata": {
        "id": "view-in-github",
        "colab_type": "text"
      },
      "source": [
        "<a href=\"https://colab.research.google.com/github/gogyeoly/class/blob/main/0314movie.ipynb\" target=\"_parent\"><img src=\"https://colab.research.google.com/assets/colab-badge.svg\" alt=\"Open In Colab\"/></a>"
      ]
    },
    {
      "cell_type": "code",
      "execution_count": 1,
      "metadata": {
        "colab": {
          "base_uri": "https://localhost:8080/"
        },
        "id": "KlwX1echZkk2",
        "outputId": "50fe44b4-c5db-4c2b-b967-c69416e1c8f3"
      },
      "outputs": [
        {
          "output_type": "stream",
          "name": "stdout",
          "text": [
            "<?xml version=\"1.0\" encoding=\"utf-8\" standalone=\"yes\"?><boxOfficeResult><boxofficeType>일별 박스오피스</boxofficeType><showRange>20240310~20240310</showRange><dailyBoxOfficeList><dailyBoxOffice><rnum>1</rnum><rank>1</rank><rankInten>0</rankInten><rankOldAndNew>OLD</rankOldAndNew><movieCd>20234675</movieCd><movieNm>파묘</movieNm><openDt>2024-02-22</openDt><salesAmt>4657527548</salesAmt><salesShare>67.2</salesShare><salesInten>-882181672</salesInten><salesChange>-15.9</salesChange><salesAcc>77505697475</salesAcc><audiCnt>472288</audiCnt><audiInten>-87390</audiInten><audiChange>-15.6</audiChange><audiAcc>8041937</audiAcc><scrnCnt>2149</scrnCnt><showCnt>8704</showCnt></dailyBoxOffice><dailyBoxOffice><rnum>2</rnum><rank>2</rank><rankInten>0</rankInten><rankOldAndNew>OLD</rankOldAndNew><movieCd>20236295</movieCd><movieNm>듄: 파트2</movieNm><openDt>2024-02-28</openDt><salesAmt>1249690636</salesAmt><salesShare>18.0</salesShare><salesInten>-243382028</salesInten><salesChange>-16.3</salesChange><salesAcc>14522768133</salesAcc><audiCnt>106758</audiCnt><audiInten>-19980</audiInten><audiChange>-15.8</audiChange><audiAcc>1282678</audiAcc><scrnCnt>1004</scrnCnt><showCnt>2653</showCnt></dailyBoxOffice><dailyBoxOffice><rnum>3</rnum><rank>3</rank><rankInten>0</rankInten><rankOldAndNew>OLD</rankOldAndNew><movieCd>20236180</movieCd><movieNm>웡카</movieNm><openDt>2024-01-31</openDt><salesAmt>336139356</salesAmt><salesShare>4.9</salesShare><salesInten>-10674616</salesInten><salesChange>-3.1</salesChange><salesAcc>32757935870</salesAcc><audiCnt>35270</audiCnt><audiInten>-722</audiInten><audiChange>-2</audiChange><audiAcc>3406873</audiAcc><scrnCnt>645</scrnCnt><showCnt>1061</showCnt></dailyBoxOffice><dailyBoxOffice><rnum>4</rnum><rank>4</rank><rankInten>0</rankInten><rankOldAndNew>OLD</rankOldAndNew><movieCd>20247437</movieCd><movieNm>브레드이발소: 셀럽 인 베이커리타운</movieNm><openDt>2024-03-01</openDt><salesAmt>156064550</salesAmt><salesShare>2.3</salesShare><salesInten>3497590</salesInten><salesChange>2.3</salesChange><salesAcc>1266364010</salesAcc><audiCnt>18411</audiCnt><audiInten>269</audiInten><audiChange>1.5</audiChange><audiAcc>147380</audiAcc><scrnCnt>321</scrnCnt><showCnt>539</showCnt></dailyBoxOffice><dailyBoxOffice><rnum>5</rnum><rank>5</rank><rankInten>0</rankInten><rankOldAndNew>OLD</rankOldAndNew><movieCd>20236732</movieCd><movieNm>가여운 것들</movieNm><openDt>2024-03-06</openDt><salesAmt>135833964</salesAmt><salesShare>2.0</salesShare><salesInten>-23331702</salesInten><salesChange>-14.7</salesChange><salesAcc>652026459</salesAcc><audiCnt>13451</audiCnt><audiInten>-2105</audiInten><audiChange>-13.5</audiChange><audiAcc>65421</audiAcc><scrnCnt>410</scrnCnt><showCnt>676</showCnt></dailyBoxOffice><dailyBoxOffice><rnum>6</rnum><rank>6</rank><rankInten>0</rankInten><rankOldAndNew>OLD</rankOldAndNew><movieCd>20234789</movieCd><movieNm>패스트 라이브즈</movieNm><openDt>2024-03-06</openDt><salesAmt>100091129</salesAmt><salesShare>1.4</salesShare><salesInten>-23742786</salesInten><salesChange>-19.2</salesChange><salesAcc>492331816</salesAcc><audiCnt>11096</audiCnt><audiInten>-2631</audiInten><audiChange>-19.2</audiChange><audiAcc>55097</audiAcc><scrnCnt>562</scrnCnt><showCnt>895</showCnt></dailyBoxOffice><dailyBoxOffice><rnum>7</rnum><rank>7</rank><rankInten>0</rankInten><rankOldAndNew>OLD</rankOldAndNew><movieCd>20247074</movieCd><movieNm>건국전쟁</movieNm><openDt>2024-02-01</openDt><salesAmt>71356085</salesAmt><salesShare>1.0</salesShare><salesInten>-4869247</salesInten><salesChange>-6.4</salesChange><salesAcc>10618599947</salesAcc><audiCnt>7722</audiCnt><audiInten>-389</audiInten><audiChange>-4.8</audiChange><audiAcc>1141075</audiAcc><scrnCnt>382</scrnCnt><showCnt>476</showCnt></dailyBoxOffice><dailyBoxOffice><rnum>8</rnum><rank>8</rank><rankInten>0</rankInten><rankOldAndNew>OLD</rankOldAndNew><movieCd>20247076</movieCd><movieNm>귀멸의 칼날: 인연의 기적, 그리고 합동 강화 훈련으로</movieNm><openDt>2024-02-14</openDt><salesAmt>45749400</salesAmt><salesShare>0.7</salesShare><salesInten>-6847900</salesInten><salesChange>-13</salesChange><salesAcc>5442660700</salesAcc><audiCnt>4356</audiCnt><audiInten>-612</audiInten><audiChange>-12.3</audiChange><audiAcc>479674</audiAcc><scrnCnt>162</scrnCnt><showCnt>238</showCnt></dailyBoxOffice><dailyBoxOffice><rnum>9</rnum><rank>9</rank><rankInten>0</rankInten><rankOldAndNew>OLD</rankOldAndNew><movieCd>20247473</movieCd><movieNm>아이엠 티라노</movieNm><openDt>2024-03-01</openDt><salesAmt>32206500</salesAmt><salesShare>0.5</salesShare><salesInten>674800</salesInten><salesChange>2.1</salesChange><salesAcc>380985500</salesAcc><audiCnt>3516</audiCnt><audiInten>-32</audiInten><audiChange>-0.9</audiChange><audiAcc>45256</audiAcc><scrnCnt>189</scrnCnt><showCnt>267</showCnt></dailyBoxOffice><dailyBoxOffice><rnum>10</rnum><rank>10</rank><rankInten>0</rankInten><rankOldAndNew>OLD</rankOldAndNew><movieCd>20234808</movieCd><movieNm>생츄어리 2 : 쿼카가 너무해</movieNm><openDt>2024-03-07</openDt><salesAmt>28899039</salesAmt><salesShare>0.4</salesShare><salesInten>554671</salesInten><salesChange>2</salesChange><salesAcc>67141807</salesAcc><audiCnt>3181</audiCnt><audiInten>69</audiInten><audiChange>2.2</audiChange><audiAcc>7413</audiAcc><scrnCnt>249</scrnCnt><showCnt>278</showCnt></dailyBoxOffice></dailyBoxOfficeList></boxOfficeResult>\n"
          ]
        }
      ],
      "source": [
        "import requests\n",
        "from bs4 import BeautifulSoup\n",
        "\n",
        "r = requests.get('https://www.kobis.or.kr/kobisopenapi/webservice/rest/boxoffice/searchDailyBoxOfficeList.xml?key=8dc7cd0e7d2547922412bdcdc8295102&targetDt=20240310&weekGb=0&itemPerPage=10')\n",
        "print(r.text)"
      ]
    },
    {
      "cell_type": "code",
      "source": [
        "soup = BeautifulSoup(r.text, features=\"xml\")"
      ],
      "metadata": {
        "id": "yxIgcIHtZslo"
      },
      "execution_count": 2,
      "outputs": []
    },
    {
      "cell_type": "code",
      "source": [
        "soup.find_all('movieNm')"
      ],
      "metadata": {
        "colab": {
          "base_uri": "https://localhost:8080/"
        },
        "id": "MajFJdwIZwZg",
        "outputId": "ef9f036f-443e-465f-8576-b825249102cf"
      },
      "execution_count": 3,
      "outputs": [
        {
          "output_type": "execute_result",
          "data": {
            "text/plain": [
              "[<movieNm>파묘</movieNm>,\n",
              " <movieNm>듄: 파트2</movieNm>,\n",
              " <movieNm>웡카</movieNm>,\n",
              " <movieNm>브레드이발소: 셀럽 인 베이커리타운</movieNm>,\n",
              " <movieNm>가여운 것들</movieNm>,\n",
              " <movieNm>패스트 라이브즈</movieNm>,\n",
              " <movieNm>건국전쟁</movieNm>,\n",
              " <movieNm>귀멸의 칼날: 인연의 기적, 그리고 합동 강화 훈련으로</movieNm>,\n",
              " <movieNm>아이엠 티라노</movieNm>,\n",
              " <movieNm>생츄어리 2 : 쿼카가 너무해</movieNm>]"
            ]
          },
          "metadata": {},
          "execution_count": 3
        }
      ]
    },
    {
      "cell_type": "code",
      "source": [
        "soup.find_all('audiCnt')"
      ],
      "metadata": {
        "colab": {
          "base_uri": "https://localhost:8080/"
        },
        "id": "axlYJs_5Zy6x",
        "outputId": "1d9045ec-7416-48ff-a760-f5bf3b0aef39"
      },
      "execution_count": 4,
      "outputs": [
        {
          "output_type": "execute_result",
          "data": {
            "text/plain": [
              "[<audiCnt>472288</audiCnt>,\n",
              " <audiCnt>106758</audiCnt>,\n",
              " <audiCnt>35270</audiCnt>,\n",
              " <audiCnt>18411</audiCnt>,\n",
              " <audiCnt>13451</audiCnt>,\n",
              " <audiCnt>11096</audiCnt>,\n",
              " <audiCnt>7722</audiCnt>,\n",
              " <audiCnt>4356</audiCnt>,\n",
              " <audiCnt>3516</audiCnt>,\n",
              " <audiCnt>3181</audiCnt>]"
            ]
          },
          "metadata": {},
          "execution_count": 4
        }
      ]
    }
  ]
}