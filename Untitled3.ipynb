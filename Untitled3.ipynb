{
  "nbformat": 4,
  "nbformat_minor": 0,
  "metadata": {
    "colab": {
      "provenance": [],
      "authorship_tag": "ABX9TyMyy+7IuftoQ9A3ekmHUk3u",
      "include_colab_link": true
    },
    "kernelspec": {
      "name": "python3",
      "display_name": "Python 3"
    },
    "language_info": {
      "name": "python"
    }
  },
  "cells": [
    {
      "cell_type": "markdown",
      "metadata": {
        "id": "view-in-github",
        "colab_type": "text"
      },
      "source": [
        "<a href=\"https://colab.research.google.com/github/gogyeoly/class/blob/main/Untitled3.ipynb\" target=\"_parent\"><img src=\"https://colab.research.google.com/assets/colab-badge.svg\" alt=\"Open In Colab\"/></a>"
      ]
    },
    {
      "cell_type": "code",
      "execution_count": 17,
      "metadata": {
        "colab": {
          "base_uri": "https://localhost:8080/"
        },
        "id": "7Y73XM8GHkmN",
        "outputId": "6314cf90-716d-4f76-d710-3f0584f831e9"
      },
      "outputs": [
        {
          "output_type": "stream",
          "name": "stdout",
          "text": [
            "{\"rentBikeStatus\":{\"list_total_count\":5,\"RESULT\":{\"CODE\":\"INFO-000\",\"MESSAGE\":\"정상 처리되었습니다.\"},\"row\":[{\"rackTotCnt\":\"15\",\"stationName\":\"102. 망원역 1번출구 앞\",\"parkingBikeTotCnt\":\"28\",\"shared\":\"187\",\"stationLatitude\":\"37.55564880\",\"stationLongitude\":\"126.91062927\",\"stationId\":\"ST-4\"},{\"rackTotCnt\":\"14\",\"stationName\":\"103. 망원역 2번출구 앞\",\"parkingBikeTotCnt\":\"28\",\"shared\":\"200\",\"stationLatitude\":\"37.55495071\",\"stationLongitude\":\"126.91083527\",\"stationId\":\"ST-5\"},{\"rackTotCnt\":\"13\",\"stationName\":\"104. 합정역 1번출구 앞\",\"parkingBikeTotCnt\":\"17\",\"shared\":\"131\",\"stationLatitude\":\"37.55073929\",\"stationLongitude\":\"126.91508484\",\"stationId\":\"ST-6\"},{\"rackTotCnt\":\"5\",\"stationName\":\"105. 합정역 5번출구 앞\",\"parkingBikeTotCnt\":\"17\",\"shared\":\"340\",\"stationLatitude\":\"37.55000687\",\"stationLongitude\":\"126.91482544\",\"stationId\":\"ST-7\"},{\"rackTotCnt\":\"12\",\"stationName\":\"106. 합정역 7번출구 앞\",\"parkingBikeTotCnt\":\"3\",\"shared\":\"25\",\"stationLatitude\":\"37.54864502\",\"stationLongitude\":\"126.91282654\",\"stationId\":\"ST-8\"}]}}\n"
          ]
        }
      ],
      "source": [
        "import requests\n",
        "from bs4 import BeautifulSoup\n",
        "\n",
        "r = requests.get('http://openapi.seoul.go.kr:8088/6546565458676f6739325346495a6c/json/bikeList/1/5/')\n",
        "print(r.text)"
      ]
    },
    {
      "cell_type": "code",
      "source": [
        "soup = BeautifulSoup(r.text, features=\"xml\")\n"
      ],
      "metadata": {
        "id": "LVj7WmECK7Mj"
      },
      "execution_count": 18,
      "outputs": []
    },
    {
      "cell_type": "code",
      "source": [
        "soup.find_all('stationName','parkingBikeTotCnt')"
      ],
      "metadata": {
        "colab": {
          "base_uri": "https://localhost:8080/"
        },
        "id": "fS6XOPkIK8GR",
        "outputId": "de5b616d-04e1-41f8-b304-d90ac7b770f0"
      },
      "execution_count": 19,
      "outputs": [
        {
          "output_type": "execute_result",
          "data": {
            "text/plain": [
              "[]"
            ]
          },
          "metadata": {},
          "execution_count": 19
        }
      ]
    },
    {
      "cell_type": "code",
      "source": [],
      "metadata": {
        "id": "ccs6cCyFLFhq"
      },
      "execution_count": 19,
      "outputs": []
    }
  ]
}