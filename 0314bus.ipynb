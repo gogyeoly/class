{
  "nbformat": 4,
  "nbformat_minor": 0,
  "metadata": {
    "colab": {
      "provenance": [],
      "authorship_tag": "ABX9TyPbvRN5qZY90jfodRJXNMsi",
      "include_colab_link": true
    },
    "kernelspec": {
      "name": "python3",
      "display_name": "Python 3"
    },
    "language_info": {
      "name": "python"
    }
  },
  "cells": [
    {
      "cell_type": "markdown",
      "metadata": {
        "id": "view-in-github",
        "colab_type": "text"
      },
      "source": [
        "<a href=\"https://colab.research.google.com/github/gogyeoly/class/blob/main/0314bus.ipynb\" target=\"_parent\"><img src=\"https://colab.research.google.com/assets/colab-badge.svg\" alt=\"Open In Colab\"/></a>"
      ]
    },
    {
      "cell_type": "code",
      "execution_count": 29,
      "metadata": {
        "colab": {
          "base_uri": "https://localhost:8080/"
        },
        "id": "y2YnQqttz6lC",
        "outputId": "64127f89-efd5-4861-f7c9-960c465f2d49"
      },
      "outputs": [
        {
          "output_type": "stream",
          "name": "stdout",
          "text": [
            "<?xml version=\"1.0\" encoding=\"UTF-8\" standalone=\"yes\"?><response><comMsgHeader/><msgHeader><queryTime>2024-03-16 21:59:16.991</queryTime><resultCode>0</resultCode><resultMessage>정상적으로 처리되었습니다.</resultMessage></msgHeader><msgBody><busLocationList><endBus>0</endBus><lowPlate>0</lowPlate><plateNo>경기77바1056</plateNo><plateType>3</plateType><remainSeatCnt>34</remainSeatCnt><routeId>234000002</routeId><stationId>206000184</stationId><stationSeq>66</stationSeq></busLocationList><busLocationList><endBus>0</endBus><lowPlate>0</lowPlate><plateNo>경기77바3564</plateNo><plateType>3</plateType><remainSeatCnt>38</remainSeatCnt><routeId>234000002</routeId><stationId>206000530</stationId><stationSeq>20</stationSeq></busLocationList><busLocationList><endBus>0</endBus><lowPlate>0</lowPlate><plateNo>경기77바3758</plateNo><plateType>3</plateType><remainSeatCnt>21</remainSeatCnt><routeId>234000002</routeId><stationId>277103148</stationId><stationSeq>57</stationSeq></busLocationList><busLocationList><endBus>0</endBus><lowPlate>0</lowPlate><plateNo>경기77바3565</plateNo><plateType>3</plateType><remainSeatCnt>40</remainSeatCnt><routeId>234000002</routeId><stationId>101000040</stationId><stationSeq>36</stationSeq></busLocationList><busLocationList><endBus>0</endBus><lowPlate>0</lowPlate><plateNo>경기77바1228</plateNo><plateType>3</plateType><remainSeatCnt>32</remainSeatCnt><routeId>234000002</routeId><stationId>101000148</stationId><stationSeq>45</stationSeq></busLocationList></msgBody></response>\n"
          ]
        }
      ],
      "source": [
        "import requests\n",
        "url='http://openapi.gbis.go.kr/ws/rest/buslocationservice?serviceKey=1234567890&routeId=234000002'\n",
        "#url='http://openapi.gbis.go.kr/ws/rest/buslocationservice?serviceKey=1234567890&routeId=234000002'\n",
        "r = requests.get(url)\n",
        "print(r.text)"
      ]
    },
    {
      "cell_type": "code",
      "source": [
        "from bs4 import BeautifulSoup\n",
        "\n",
        "soup = BeautifulSoup(r.text, features=\"xml\")"
      ],
      "metadata": {
        "id": "A5gjYbaK8v2s"
      },
      "execution_count": 30,
      "outputs": []
    },
    {
      "cell_type": "code",
      "source": [
        "soup.find_all('stationId')"
      ],
      "metadata": {
        "colab": {
          "base_uri": "https://localhost:8080/"
        },
        "id": "d9Nzr3wb84IX",
        "outputId": "2f4b5e7e-7341-49ad-c38e-6bcb42cfc638"
      },
      "execution_count": 31,
      "outputs": [
        {
          "output_type": "execute_result",
          "data": {
            "text/plain": [
              "[<stationId>206000184</stationId>,\n",
              " <stationId>206000530</stationId>,\n",
              " <stationId>277103148</stationId>,\n",
              " <stationId>101000040</stationId>,\n",
              " <stationId>101000148</stationId>]"
            ]
          },
          "metadata": {},
          "execution_count": 31
        }
      ]
    },
    {
      "cell_type": "code",
      "source": [
        "print('학번=',2386002,'이름=','고은결')"
      ],
      "metadata": {
        "colab": {
          "base_uri": "https://localhost:8080/"
        },
        "id": "GVnpUpKR9-A_",
        "outputId": "95ba9371-d525-4914-8b4b-fdb32e5b7667"
      },
      "execution_count": 32,
      "outputs": [
        {
          "output_type": "stream",
          "name": "stdout",
          "text": [
            "학번= 2386002 이름= 고은결\n"
          ]
        }
      ]
    }
  ]
}